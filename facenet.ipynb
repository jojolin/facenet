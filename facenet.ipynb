{
 "cells": [
  {
   "cell_type": "markdown",
   "metadata": {},
   "source": [
    "## 人脸识别程序\n",
    "- 该项目用于验证人脸识别的可用性\n",
    "- 依赖环境： tf20py36\n",
    "- 验证流程：\n",
    "  - 数据人脸库\n",
    "  - 对的图片进行人脸识别\n",
    "  - 给出识别结果"
   ]
  },
  {
   "cell_type": "code",
   "execution_count": null,
   "metadata": {
    "collapsed": false
   },
   "outputs": [],
   "source": [
    "import tensorflow\n",
    "import numpy as np\n",
    "import matplotlib.pyplot as plt\n",
    "import matplotlib.image as mpimg\n",
    "import os\n",
    "from os import path"
   ]
  },
  {
   "cell_type": "code",
   "execution_count": null,
   "metadata": {
    "collapsed": true
   },
   "outputs": [],
   "source": [
    "def show_image(img_path, name=''):\n",
    "    img = mpimg.imread(img_path)\n",
    "    plt.figure()\n",
    "    plt.imshow(img)\n",
    "    plt.title(name)\n",
    "    \n",
    "def show_images(images):\n",
    "    for name, img_path in images:\n",
    "        show_image(img_path, name)"
   ]
  },
  {
   "cell_type": "code",
   "execution_count": null,
   "metadata": {
    "collapsed": false
   },
   "outputs": [],
   "source": [
    "cd '~/jianzhou/facenet'"
   ]
  },
  {
   "cell_type": "code",
   "execution_count": null,
   "metadata": {
    "collapsed": false
   },
   "outputs": [],
   "source": [
    "def load_db_images(DB_IMAGES_PATH):\n",
    "    faces = [x for x in os.listdir(DB_IMAGES_PATH) if path.isdir(path.join(DB_IMAGES_PATH, x))]\n",
    "    print('load faces: %s' % faces)\n",
    "\n",
    "    # {face_dir: name, [img1, img2]}\n",
    "    db_images = {}\n",
    "    for face in faces:\n",
    "        face_dir = path.join(DB_IMAGES_PATH, face)\n",
    "        with open(path.join(face_dir, 'name.txt')) as r:\n",
    "            name = r.read().strip()\n",
    "        face_images = [path.join(face_dir, x) for x in os.listdir(face_dir) if x.endswith('.jpg')]\n",
    "        db_images[face_dir] = name, face_images\n",
    "    print('load db_images:')\n",
    "    for face_dir in db_images:\n",
    "        print(face_dir)\n",
    "        name, images = db_images[face_dir]\n",
    "        print('name: %s' % name + '\\t'.join(images))\n",
    "    return db_images\n",
    "\n",
    "DB_IMAGES_PATH = './data/images'\n",
    "db_images = load_db_images(DB_IMAGES_PATH)\n",
    "\n",
    "for face_dir in db_images:\n",
    "    name, images = db_images[face_dir]\n",
    "    for img in images:       \n",
    "        show_image(img, img)"
   ]
  },
  {
   "cell_type": "code",
   "execution_count": null,
   "metadata": {
    "collapsed": false
   },
   "outputs": [],
   "source": [
    "test_img = './data/test_images/zy.jpg'\n",
    "show_image(test_img)\n",
    "#test_img = \"./data/images/jz/jz2.jpg\"\n",
    "#show_image(test_img)"
   ]
  },
  {
   "cell_type": "code",
   "execution_count": null,
   "metadata": {
    "collapsed": false
   },
   "outputs": [],
   "source": [
    "!source activate tf12py27 \\\n",
    "    && python src/recognize.py --gpu_memory_fraction 0.8 model/20180402-114759 \\\n",
    "    {test_img}"
   ]
  },
  {
   "cell_type": "code",
   "execution_count": null,
   "metadata": {
    "collapsed": false
   },
   "outputs": [],
   "source": [
    "show_image(\"./data/images/zy/zy1.jpg\")"
   ]
  },
  {
   "cell_type": "code",
   "execution_count": null,
   "metadata": {
    "collapsed": true
   },
   "outputs": [],
   "source": []
  }
 ],
 "metadata": {
  "anaconda-cloud": {},
  "kernelspec": {
   "display_name": "Python [conda env:tf20py36]",
   "language": "python",
   "name": "conda-env-tf20py36-py"
  },
  "language_info": {
   "codemirror_mode": {
    "name": "ipython",
    "version": 3
   },
   "file_extension": ".py",
   "mimetype": "text/x-python",
   "name": "python",
   "nbconvert_exporter": "python",
   "pygments_lexer": "ipython3",
   "version": "3.6.8"
  }
 },
 "nbformat": 4,
 "nbformat_minor": 2
}
